{
 "cells": [
  {
   "cell_type": "code",
   "execution_count": 2,
   "metadata": {},
   "outputs": [],
   "source": [
    "import torch"
   ]
  },
  {
   "cell_type": "code",
   "execution_count": 4,
   "metadata": {},
   "outputs": [],
   "source": [
    "inputs = torch.tensor(\n",
    "  [[0.43, 0.15, 0.89], # Your     (x^1)\n",
    "   [0.55, 0.87, 0.66], # journey  (x^2)\n",
    "   [0.57, 0.85, 0.64], # starts   (x^3)\n",
    "   [0.22, 0.58, 0.33], # with     (x^4)\n",
    "   [0.77, 0.25, 0.10], # one      (x^5)\n",
    "   [0.05, 0.80, 0.55]] # step     (x^6)\n",
    ")"
   ]
  },
  {
   "cell_type": "code",
   "execution_count": 7,
   "metadata": {},
   "outputs": [
    {
     "name": "stdout",
     "output_type": "stream",
     "text": [
      "tensor([[0.9995, 0.9544, 0.9422, 0.4753, 0.4576, 0.6310],\n",
      "        [0.9544, 1.4950, 1.4754, 0.8434, 0.7070, 1.0865],\n",
      "        [0.9422, 1.4754, 1.4570, 0.8296, 0.7154, 1.0605],\n",
      "        [0.4753, 0.8434, 0.8296, 0.4937, 0.3474, 0.6565],\n",
      "        [0.4576, 0.7070, 0.7154, 0.3474, 0.6654, 0.2935],\n",
      "        [0.6310, 1.0865, 1.0605, 0.6565, 0.2935, 0.9450]])\n",
      "tensor([[0.2098, 0.2006, 0.1981, 0.1242, 0.1220, 0.1452],\n",
      "        [0.1385, 0.2379, 0.2333, 0.1240, 0.1082, 0.1581],\n",
      "        [0.1390, 0.2369, 0.2326, 0.1242, 0.1108, 0.1565],\n",
      "        [0.1435, 0.2074, 0.2046, 0.1462, 0.1263, 0.1720],\n",
      "        [0.1526, 0.1958, 0.1975, 0.1367, 0.1879, 0.1295],\n",
      "        [0.1385, 0.2184, 0.2128, 0.1420, 0.0988, 0.1896]])\n"
     ]
    }
   ],
   "source": [
    "# Without Weights\n",
    "attn_scores = inputs @ inputs.T\n",
    "print(attn_scores)\n",
    "attn_weights = torch.softmax(attn_scores, dim=-1)\n",
    "print(attn_weights)\n"
   ]
  },
  {
   "cell_type": "code",
   "execution_count": 60,
   "metadata": {},
   "outputs": [],
   "source": [
    "x_2 = inputs[1]\n",
    "d_in = inputs.shape[1]\n",
    "d_out = 3\n"
   ]
  },
  {
   "cell_type": "code",
   "execution_count": 9,
   "metadata": {},
   "outputs": [],
   "source": [
    "torch.manual_seed(123)\n",
    "W_query = torch.nn.Parameter(torch.rand(d_in, d_out), requires_grad=False)\n",
    "W_key   = torch.nn.Parameter(torch.rand(d_in, d_out), requires_grad=False)\n",
    "W_value = torch.nn.Parameter(torch.rand(d_in, d_out), requires_grad=False)"
   ]
  },
  {
   "cell_type": "code",
   "execution_count": 10,
   "metadata": {},
   "outputs": [
    {
     "data": {
      "text/plain": [
       "Parameter containing:\n",
       "tensor([[0.2961, 0.5166],\n",
       "        [0.2517, 0.6886],\n",
       "        [0.0740, 0.8665]])"
      ]
     },
     "execution_count": 10,
     "metadata": {},
     "output_type": "execute_result"
    }
   ],
   "source": [
    "W_query"
   ]
  },
  {
   "cell_type": "code",
   "execution_count": 14,
   "metadata": {},
   "outputs": [
    {
     "name": "stdout",
     "output_type": "stream",
     "text": [
      "tensor([0.4306, 1.4551])\n"
     ]
    }
   ],
   "source": [
    "# Consider the second word:\n",
    "query_2 = x_2 @ W_query \n",
    "key_2 = x_2 @ W_key \n",
    "value_2 = x_2 @ W_value\n",
    "print(query_2)"
   ]
  },
  {
   "cell_type": "code",
   "execution_count": 20,
   "metadata": {},
   "outputs": [
    {
     "name": "stdout",
     "output_type": "stream",
     "text": [
      "keys.shape: torch.Size([6, 2])\n",
      "values.shape: torch.Size([6, 2])\n",
      "Attention Score:  tensor(1.8524)\n",
      "Attention Scores:  tensor([1.2705, 1.8524, 1.8111, 1.0795, 0.5577, 1.5440])\n",
      "Attention Weights:  tensor([0.1500, 0.2264, 0.2199, 0.1311, 0.0906, 0.1820])\n",
      "Context Vector (multiplying value matrix):  tensor([0.3061, 0.8210])\n"
     ]
    }
   ],
   "source": [
    "keys = inputs @ W_key \n",
    "values = inputs @ W_value\n",
    "print(\"keys.shape:\", keys.shape)\n",
    "print(\"values.shape:\", values.shape)\n",
    "keys_2 = keys[1]\n",
    "attn_score_22 = query_2.dot(keys_2)\n",
    "print(\"Attention Score: \", attn_score_22)\n",
    "attn_scores_2 = query_2 @ keys.T # All attention scores for given query\n",
    "print(\"Attention Scores: \", attn_scores_2)\n",
    "d_k = keys.shape[-1]\n",
    "attn_weights_2 = torch.softmax(attn_scores_2 / d_k**0.5, dim=-1)\n",
    "print(\"Attention Weights: \", attn_weights_2)\n",
    "context_vec_2 = attn_weights_2 @ values\n",
    "print(\"Context Vector (multiplying value matrix): \", context_vec_2)\n",
    "\n",
    "\n"
   ]
  },
  {
   "cell_type": "code",
   "execution_count": 30,
   "metadata": {},
   "outputs": [],
   "source": [
    "import torch.nn as nn\n",
    "\n",
    "class SelfAttention_v2(nn.Module):\n",
    "    def __init__(self, d_in, d_out, qkv_bias = False):\n",
    "        super().__init__()\n",
    "        self.d_out = d_out\n",
    "        self.W_query = nn.Linear(d_in, d_out, bias=qkv_bias)\n",
    "        self.W_key   = nn.Linear(d_in, d_out, bias=qkv_bias)\n",
    "        self.W_value = nn.Linear(d_in, d_out, bias=qkv_bias)\n",
    "\n",
    "    def forward(self, x):\n",
    "        keys = self.W_key(x)\n",
    "        queries = self.W_query(x)\n",
    "        values = self. W_value(x)\n",
    "        attention_scores = queries @ keys.T\n",
    "        attention_weights = torch.softmax(attention_scores / keys.shape[-1]**0.5, dim=-1)\n",
    "        context_vector = attention_weights @ values\n",
    "        return context_vector\n",
    "    "
   ]
  },
  {
   "cell_type": "code",
   "execution_count": 40,
   "metadata": {},
   "outputs": [
    {
     "name": "stdout",
     "output_type": "stream",
     "text": [
      "tensor([[-0.5337, -0.1051],\n",
      "        [-0.5323, -0.1080],\n",
      "        [-0.5323, -0.1079],\n",
      "        [-0.5297, -0.1076],\n",
      "        [-0.5311, -0.1066],\n",
      "        [-0.5299, -0.1081]], grad_fn=<MmBackward0>)\n"
     ]
    }
   ],
   "source": [
    "torch.manual_seed(123)\n",
    "sa_v2 = SelfAttention_v2(d_in, d_out)\n",
    "print(sa_v2(inputs))\n"
   ]
  },
  {
   "cell_type": "code",
   "execution_count": 42,
   "metadata": {},
   "outputs": [
    {
     "name": "stdout",
     "output_type": "stream",
     "text": [
      "tensor([[1., 0., 0., 0., 0., 0.],\n",
      "        [1., 1., 0., 0., 0., 0.],\n",
      "        [1., 1., 1., 0., 0., 0.],\n",
      "        [1., 1., 1., 1., 0., 0.],\n",
      "        [1., 1., 1., 1., 1., 0.],\n",
      "        [1., 1., 1., 1., 1., 1.]])\n",
      "tensor([[1.0000, 0.0000, 0.0000, 0.0000, 0.0000, 0.0000],\n",
      "        [0.4833, 0.5167, 0.0000, 0.0000, 0.0000, 0.0000],\n",
      "        [0.3190, 0.3408, 0.3402, 0.0000, 0.0000, 0.0000],\n",
      "        [0.2445, 0.2545, 0.2542, 0.2468, 0.0000, 0.0000],\n",
      "        [0.1994, 0.2060, 0.2058, 0.1935, 0.1953, 0.0000],\n",
      "        [0.1624, 0.1709, 0.1706, 0.1654, 0.1625, 0.1682]],\n",
      "       grad_fn=<DivBackward0>)\n"
     ]
    }
   ],
   "source": [
    "# Causal Attention\n",
    "context_length = attn_scores.shape[0]\n",
    "mask_simple = torch.tril(torch.ones(context_length, context_length))\n",
    "print(mask_simple)\n",
    "# Make all the rows sum to 1\n",
    "row_sums = masked_simple.sum(dim=1, keepdim=True)\n",
    "masked_simple_norm = masked_simple / row_sums\n",
    "print(masked_simple_norm)"
   ]
  },
  {
   "cell_type": "code",
   "execution_count": 58,
   "metadata": {},
   "outputs": [],
   "source": [
    "import torch.nn as nn\n",
    "\n",
    "# Causal Attention with Dropout for Batches\n",
    "class CausalAttention(nn.Module):\n",
    "    def __init__(self, d_in, d_out, context_length, dropout=0.2, qkv_bias = False):\n",
    "        super().__init__()\n",
    "        self.d_out = d_out\n",
    "        self.d_in = d_in\n",
    "        self.W_query = nn.Linear(d_in, d_out, bias=qkv_bias)\n",
    "        self.W_key   = nn.Linear(d_in, d_out, bias=qkv_bias)\n",
    "        self.W_value = nn.Linear(d_in, d_out, bias=qkv_bias)\n",
    "        self.dropout = nn.Dropout(dropout)\n",
    "        self.register_buffer(\"mask\", torch.triu(torch.ones(context_length, context_length)))\n",
    "\n",
    "    def forward(self, inputs):\n",
    "        b, num_tokens, d_in = inputs.shape\n",
    "        assert d_in == self.d_in, \"Embedding Dimension is Incompatible with Initilized\"\n",
    "        keys = self.W_key(inputs) \n",
    "        queries = self.W_query(inputs)\n",
    "        values = self. W_value(inputs) # q,k,v will have shape (num_tokens, d_out)\n",
    "        attention_scores = queries @ keys.transpose(1,2) # (num_tokens, d_out) * (d_out, num_tokens) = (num_tokens, num_tokens)\n",
    "        masked = attention_scores.masked_fill(self.mask.bool()[:num_tokens, :num_tokens], -torch.inf)\n",
    "        attention_weights = torch.softmax(attention_scores / keys.shape[-1]**0.5, dim=-1)\n",
    "        attention_weights = self.dropout(attention_weights)\n",
    "        context_vector = attention_weights @ values\n",
    "        return context_vector"
   ]
  },
  {
   "cell_type": "code",
   "execution_count": 72,
   "metadata": {},
   "outputs": [
    {
     "name": "stdout",
     "output_type": "stream",
     "text": [
      "torch.Size([2, 6, 3])\n",
      "tensor([[[-0.4050,  0.5388, -0.4052],\n",
      "         [-0.2598,  0.3360, -0.1981],\n",
      "         [-0.4339,  0.6317, -0.5422],\n",
      "         [-0.3437,  0.5202, -0.5002],\n",
      "         [-0.3705,  0.5540, -0.4977],\n",
      "         [-0.3431,  0.5197, -0.5017]],\n",
      "\n",
      "        [[-0.3397,  0.4587, -0.3627],\n",
      "         [-0.4337,  0.6315, -0.5423],\n",
      "         [-0.4094,  0.5443, -0.4061],\n",
      "         [-0.4318,  0.6302, -0.5418],\n",
      "         [-0.3294,  0.4880, -0.4258],\n",
      "         [-0.4297,  0.6279, -0.5425]]], grad_fn=<UnsafeViewBackward0>)\n"
     ]
    }
   ],
   "source": [
    "batch = torch.stack((inputs, inputs), dim=0)\n",
    "print(batch.shape)\n",
    "context_length = batch.shape[1]\n",
    "ca = CausalAttention(d_in, d_out, context_length)\n",
    "print(ca(batch))"
   ]
  },
  {
   "cell_type": "code",
   "execution_count": 75,
   "metadata": {},
   "outputs": [],
   "source": [
    "# Multihead Attention\n",
    "class MultiHeadAttentionWrapper(nn.Module):\n",
    "    def __init__(self, d_in, d_out, context_length, dropout, num_heads=1, qkv_bias = False):\n",
    "        super().__init__()\n",
    "        self.heads = nn.ModuleList([\n",
    "            CausalAttention(d_in, d_out, context_length, dropout, qkv_bias) for i  in range(num_heads)\n",
    "        ])\n",
    "    def forward(self, x):\n",
    "        return torch.cat([head(x) for head in self.heads], dim=-1)  "
   ]
  },
  {
   "cell_type": "code",
   "execution_count": 81,
   "metadata": {},
   "outputs": [
    {
     "name": "stdout",
     "output_type": "stream",
     "text": [
      "tensor([[[ 0.2633,  0.4277, -0.1353,  0.0031,  0.5378,  0.2513],\n",
      "         [ 0.2641,  0.4296, -0.1350,  0.0017,  0.5346,  0.2495],\n",
      "         [ 0.2641,  0.4296, -0.1350,  0.0017,  0.5345,  0.2495],\n",
      "         [ 0.2647,  0.4316, -0.1381,  0.0023,  0.5353,  0.2504],\n",
      "         [ 0.2642,  0.4303, -0.1373,  0.0021,  0.5330,  0.2490],\n",
      "         [ 0.2648,  0.4316, -0.1375,  0.0023,  0.5363,  0.2508]],\n",
      "\n",
      "        [[ 0.2633,  0.4277, -0.1353,  0.0031,  0.5378,  0.2513],\n",
      "         [ 0.2641,  0.4296, -0.1350,  0.0017,  0.5346,  0.2495],\n",
      "         [ 0.2641,  0.4296, -0.1350,  0.0017,  0.5345,  0.2495],\n",
      "         [ 0.2647,  0.4316, -0.1381,  0.0023,  0.5353,  0.2504],\n",
      "         [ 0.2642,  0.4303, -0.1373,  0.0021,  0.5330,  0.2490],\n",
      "         [ 0.2648,  0.4316, -0.1375,  0.0023,  0.5363,  0.2508]]],\n",
      "       grad_fn=<CatBackward0>)\n",
      "context_vecs.shape: torch.Size([2, 6, 6])\n"
     ]
    }
   ],
   "source": [
    "torch.manual_seed(123)\n",
    "context_length = batch.shape[1] # This is the number of tokens\n",
    "d_in, d_out = 3, 3\n",
    "mha = MultiHeadAttentionWrapper(d_in, d_out, context_length, 0.0, num_heads=2)\n",
    "context_vecs = mha(batch)\n",
    " \n",
    "print(context_vecs)\n",
    "print(\"context_vecs.shape:\", context_vecs.shape)"
   ]
  },
  {
   "cell_type": "code",
   "execution_count": 94,
   "metadata": {},
   "outputs": [],
   "source": [
    "class MultiHeadAttention(nn.Module):\n",
    "    def __init__(self, d_in, d_out, context_length, dropout, qkv_bias=False, num_heads=1):\n",
    "        super().__init__()\n",
    "        assert d_out % num_heads == 0, \"d_out must be divisible by num_heads\"\n",
    "\n",
    "        self.d_out = d_out\n",
    "        self.num_heads = num_heads\n",
    "        self.head_dim = d_out // num_heads\n",
    "        self.W_query = nn.Linear(d_in, d_out, bias=qkv_bias)\n",
    "        self.W_key = nn.Linear(d_in, d_out, bias=qkv_bias)\n",
    "        self.W_value = nn.Linear(d_in, d_out, bias=qkv_bias)\n",
    "        self.out_proj = nn.Linear(d_out, d_out)\n",
    "        self.dropout = nn.Dropout(dropout)\n",
    "        self.register_buffer(\n",
    "            'mask',\n",
    "                torch.triu(torch.ones(context_length, context_length), diagonal=1)\n",
    "        )\n",
    "    def forward(self, inputs):\n",
    "        b, num_tokens, d_in = inputs.shape\n",
    "        query = self.W_query(inputs)\n",
    "        key = self.W_key(inputs)\n",
    "        value = self.W_value(inputs)\n",
    "        queries = query.view(b, num_tokens, self.num_heads, self.head_dim)\n",
    "        keys = key.view(b, num_tokens, self.num_heads, self.head_dim)\n",
    "        values = value.view(b, num_tokens, self.num_heads, self.head_dim)\n",
    "\n",
    "        keys = keys.transpose(1,2)\n",
    "        queries = queries.transpose(1,2)\n",
    "        values = values.transpose(1,2)\n",
    "\n",
    "        attn_scores = queries @ keys.transpose(2, 3)\n",
    "        mask_bool = self.mask.bool()[:num_tokens, :num_tokens]\n",
    "  \n",
    "        attn_scores.masked_fill_(mask_bool, -torch.inf)\n",
    " \n",
    "        attn_weights = torch.softmax(\n",
    "            attn_scores / keys.shape[-1]**0.5, dim=-1)\n",
    "        attn_weights = self.dropout(attn_weights)\n",
    " \n",
    "        context_vec = (attn_weights @ values).transpose(1, 2)\n",
    "\n",
    "        context_vec = context_vec.contiguous().view(b, num_tokens, self.d_out)\n",
    "        context_vec = self.out_proj(context_vec)\n",
    "        return context_vec\n"
   ]
  },
  {
   "cell_type": "code",
   "execution_count": 101,
   "metadata": {},
   "outputs": [
    {
     "name": "stdout",
     "output_type": "stream",
     "text": [
      "tensor([[[-9.2058e-05, -2.6669e-01,  1.6402e-01,  3.5730e-01, -5.3622e-02,\n",
      "          -2.1625e-01, -6.7612e-02,  4.8780e-01],\n",
      "         [ 2.9047e-02, -2.4400e-01,  1.9984e-01,  3.6479e-01, -2.2243e-04,\n",
      "          -1.9901e-01, -9.1584e-02,  4.3615e-01],\n",
      "         [ 4.0933e-02, -2.3906e-01,  2.1329e-01,  3.6909e-01,  1.5201e-02,\n",
      "          -1.9030e-01, -1.0079e-01,  4.1939e-01],\n",
      "         [ 4.3469e-02, -2.2697e-01,  2.3146e-01,  3.2855e-01,  5.4247e-03,\n",
      "          -1.4201e-01, -9.1032e-02,  4.0699e-01],\n",
      "         [ 4.1461e-02, -2.2034e-01,  2.0402e-01,  3.1036e-01, -3.8359e-02,\n",
      "          -1.0335e-01, -8.3763e-02,  3.8687e-01],\n",
      "         [ 4.2823e-02, -2.1431e-01,  2.2892e-01,  2.9669e-01, -1.7885e-02,\n",
      "          -9.8132e-02, -8.2856e-02,  3.8911e-01]],\n",
      "\n",
      "        [[-9.2058e-05, -2.6669e-01,  1.6402e-01,  3.5730e-01, -5.3622e-02,\n",
      "          -2.1625e-01, -6.7612e-02,  4.8780e-01],\n",
      "         [ 2.9047e-02, -2.4400e-01,  1.9984e-01,  3.6479e-01, -2.2243e-04,\n",
      "          -1.9901e-01, -9.1584e-02,  4.3615e-01],\n",
      "         [ 4.0933e-02, -2.3906e-01,  2.1329e-01,  3.6909e-01,  1.5201e-02,\n",
      "          -1.9030e-01, -1.0079e-01,  4.1939e-01],\n",
      "         [ 4.3469e-02, -2.2697e-01,  2.3146e-01,  3.2855e-01,  5.4247e-03,\n",
      "          -1.4201e-01, -9.1032e-02,  4.0699e-01],\n",
      "         [ 4.1461e-02, -2.2034e-01,  2.0402e-01,  3.1036e-01, -3.8359e-02,\n",
      "          -1.0335e-01, -8.3763e-02,  3.8687e-01],\n",
      "         [ 4.2823e-02, -2.1431e-01,  2.2892e-01,  2.9669e-01, -1.7885e-02,\n",
      "          -9.8132e-02, -8.2856e-02,  3.8911e-01]]], grad_fn=<ViewBackward0>)\n",
      "context_vecs.shape: torch.Size([2, 6, 8])\n"
     ]
    }
   ],
   "source": [
    "batch_size, context_length, d_in = batch.shape\n",
    "d_out = 8\n",
    "mha = MultiHeadAttention(d_in, d_out, context_length, 0.0, num_heads=8)\n",
    "context_vecs = mha(batch)\n",
    "print(context_vecs)\n",
    "print(\"context_vecs.shape:\", context_vecs.shape)"
   ]
  },
  {
   "cell_type": "code",
   "execution_count": null,
   "metadata": {},
   "outputs": [],
   "source": []
  }
 ],
 "metadata": {
  "kernelspec": {
   "display_name": "Python 3",
   "language": "python",
   "name": "python3"
  },
  "language_info": {
   "codemirror_mode": {
    "name": "ipython",
    "version": 3
   },
   "file_extension": ".py",
   "mimetype": "text/x-python",
   "name": "python",
   "nbconvert_exporter": "python",
   "pygments_lexer": "ipython3",
   "version": "3.12.3"
  }
 },
 "nbformat": 4,
 "nbformat_minor": 2
}
